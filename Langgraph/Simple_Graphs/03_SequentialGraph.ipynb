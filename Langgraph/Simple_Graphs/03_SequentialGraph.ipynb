{
 "cells": [
  {
   "cell_type": "markdown",
   "id": "b7d30c3d",
   "metadata": {},
   "source": [
    "## Sequential Graph\n",
    "### Objectives\n",
    "1. Create multiple `Nodes` that sequentially process and update different parts of the state.\n",
    "2. Connect `Nodes` together in a graph\n",
    "3. Invoke the `Graph` and see how the **state is transformed** step-by-step\n",
    "\n",
    "**Main Goal**: Create and handle multiple `Nodes`"
   ]
  },
  {
   "cell_type": "code",
   "execution_count": 18,
   "id": "39462950",
   "metadata": {},
   "outputs": [],
   "source": [
    "from typing import TypedDict, List\n",
    "from langgraph.graph import StateGraph"
   ]
  },
  {
   "cell_type": "code",
   "execution_count": 19,
   "id": "c266c728",
   "metadata": {},
   "outputs": [],
   "source": [
    "class AgentState(TypedDict):\n",
    "  name: str\n",
    "  age: str\n",
    "  final: str"
   ]
  },
  {
   "cell_type": "code",
   "execution_count": 20,
   "id": "8f7ccec6",
   "metadata": {},
   "outputs": [],
   "source": [
    "def first_node(state: AgentState) -> AgentState: \n",
    "  \"\"\"This is the first node of our sequence\"\"\"\n",
    "\n",
    "  state['final'] = f\"Hi {state['name']}.\"\n",
    "  return state\n",
    "\n",
    "def second_node(state: AgentState) -> AgentState:\n",
    "  \"\"\"This is the second node of the sequence\"\"\"\n",
    "\n",
    "  state['final'] = state['final'] + f\" You are {state['age']} years old\"\n",
    "  return state\n",
    "\n",
    "# def final_node(state: AgentState) -> AgentState:\n",
    "\n",
    "#   return state"
   ]
  },
  {
   "cell_type": "code",
   "execution_count": 21,
   "id": "9336d4b1",
   "metadata": {},
   "outputs": [],
   "source": [
    "graph = StateGraph(AgentState)\n",
    "\n",
    "graph.add_node(\"first_node\", first_node)\n",
    "graph.add_node(\"second_node\", second_node)\n",
    "\n",
    "graph.set_entry_point(\"first_node\")\n",
    "graph.add_edge(\"first_node\", \"second_node\")\n",
    "graph.set_finish_point(\"second_node\")\n",
    "\n",
    "app = graph.compile()"
   ]
  },
  {
   "cell_type": "code",
   "execution_count": 22,
   "id": "65f79505",
   "metadata": {},
   "outputs": [
    {
     "data": {
      "image/png": "[encoded data removed]",
      "text/plain": [
       "<IPython.core.display.Image object>"
      ]
     },
     "metadata": {},
     "output_type": "display_data"
    }
   ],
   "source": [
    "from IPython.display import Image, display\n",
    "display(Image(app.get_graph().draw_mermaid_png()))"
   ]
  },
  {
   "cell_type": "code",
   "execution_count": 23,
   "id": "6aedbe97",
   "metadata": {},
   "outputs": [],
   "source": [
    "result = app.invoke({\"name\": \"Ashik\", \"age\": \"23\", \"final\": \"\"})"
   ]
  },
  {
   "cell_type": "code",
   "execution_count": 24,
   "id": "1da84f89",
   "metadata": {},
   "outputs": [
    {
     "name": "stdout",
     "output_type": "stream",
     "text": [
      "{'name': 'Ashik', 'age': '23', 'final': 'Hi Ashik. You are 23 years old'}\n"
     ]
    }
   ],
   "source": [
    "print(result)"
   ]
  },
  {
   "cell_type": "markdown",
   "id": "509da4d6",
   "metadata": {},
   "source": [
    "#### Task\n",
    "1. Accept a user's `name`, `age`, and a list of their `skills`.\n",
    "2. Pass the state through **three nodes** that:\n",
    "   - **First node**: Personalizes the `name` field with a greeting\n",
    "   - **Second node**: Describes the user's `age`\n",
    "   - **Third node**: Lists the user's skills in a formatted string\n",
    "3. The final output in the `result` filed should be **combined message** in this format:\n",
    "\n",
    "**Output**: \"Ashik, welcome to the system! You are 31 years old! You have skills in: Python, Machine Learning, and LangGraph\""
   ]
  },
  {
   "cell_type": "code",
   "execution_count": 25,
   "id": "2424e543",
   "metadata": {},
   "outputs": [],
   "source": [
    "class CombineState(TypedDict):\n",
    "  name: str\n",
    "  age: str\n",
    "  skills: List[str]\n",
    "  result: str"
   ]
  },
  {
   "cell_type": "code",
   "execution_count": 26,
   "id": "36a0506d",
   "metadata": {},
   "outputs": [],
   "source": [
    "def firstNode(state: CombineState) -> CombineState:\n",
    "  \"\"\"This is the first node about name\"\"\"\n",
    "\n",
    "  state['result'] = f\"{state['name']}, welcome to the system!\"\n",
    "  return state"
   ]
  },
  {
   "cell_type": "code",
   "execution_count": 27,
   "id": "f858fba6",
   "metadata": {},
   "outputs": [],
   "source": [
    "def secondNode(state: CombineState) -> CombineState:\n",
    "  \"\"\"This node describe about age\"\"\"\n",
    "  state['result'] = state['result'] + f\" You are {state['age']} years old.\"\n",
    "  return state"
   ]
  },
  {
   "cell_type": "code",
   "execution_count": 28,
   "id": "f6ca0849",
   "metadata": {},
   "outputs": [],
   "source": [
    "def finalNode(state: CombineState) -> CombineState:\n",
    "  \"\"\"This combined about skills\"\"\"\n",
    "  skills = state['skills']\n",
    "  skills_text = ', '.join(skills[:-1]) + f\", and {skills[-1]}\"\n",
    "  state['result'] = state['result'] + f\" You have skill in {skills_text}\"\n",
    "\n",
    "  return state"
   ]
  },
  {
   "cell_type": "code",
   "execution_count": 29,
   "id": "ec2b1489",
   "metadata": {},
   "outputs": [],
   "source": [
    "graph2 = StateGraph(CombineState)\n",
    "\n",
    "(graph2.add_node(\"name_node\", firstNode)\n",
    ".add_node(\"age_node\", secondNode)\n",
    ".add_node(\"skills_node\", finalNode))\n",
    "\n",
    "graph2.set_entry_point(\"name_node\")\n",
    "graph2.add_edge(\"name_node\", \"age_node\")\n",
    "graph2.add_edge(\"age_node\", \"skills_node\")\n",
    "graph2.set_finish_point(\"skills_node\")\n",
    "\n",
    "app2 = graph2.compile()"
   ]
  },
  {
   "cell_type": "code",
   "execution_count": 30,
   "id": "f5a8fa19",
   "metadata": {},
   "outputs": [
    {
     "data": {
      "image/png": "[encoded data removed]",
      "text/plain": [
       "<IPython.core.display.Image object>"
      ]
     },
     "metadata": {},
     "output_type": "display_data"
    }
   ],
   "source": [
    "display(Image(app2.get_graph().draw_mermaid_png()))"
   ]
  },
  {
   "cell_type": "code",
   "execution_count": 31,
   "id": "b7404300",
   "metadata": {},
   "outputs": [
    {
     "data": {
      "text/plain": [
       "{'name': 'Ashik',\n",
       " 'age': '23',\n",
       " 'skills': ['Python', 'Machine Learning', 'LangGraph'],\n",
       " 'result': 'Ashik, welcome to the system! You are 23 years old. You have skill in Python, Machine Learning, and LangGraph'}"
      ]
     },
     "execution_count": 31,
     "metadata": {},
     "output_type": "execute_result"
    }
   ],
   "source": [
    "app2.invoke({\"name\": \"Ashik\", \"age\": \"23\", \"skills\": [\"Python\", \"Machine Learning\", \"LangGraph\"], \"result\": \"\"})"
   ]
  }
 ],
 "metadata": {
  "kernelspec": {
   "display_name": ".venv",
   "language": "python",
   "name": "python3"
  },
  "language_info": {
   "codemirror_mode": {
    "name": "ipython",
    "version": 3
   },
   "file_extension": ".py",
   "mimetype": "text/x-python",
   "name": "python",
   "nbconvert_exporter": "python",
   "pygments_lexer": "ipython3",
   "version": "3.13.5"
  }
 },
 "nbformat": 4,
 "nbformat_minor": 5
}
