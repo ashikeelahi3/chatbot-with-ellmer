{
 "cells": [
  {
   "cell_type": "markdown",
   "id": "50faec49",
   "metadata": {},
   "source": [
    "## Objective:\n",
    "1. Define a more complex `AgentState`\n",
    "2. Create a processing node that performs operations on **list data**\n",
    "3. Set up `LangGraph` that processes and outputs computed results.\n",
    "4. Invoke the graph with structured inputs and retrieve outputs.\n",
    "\n",
    "**Main Goal**: Learn how to handle multiple inputs"
   ]
  },
  {
   "cell_type": "code",
   "execution_count": 1,
   "id": "a9528adb",
   "metadata": {},
   "outputs": [],
   "source": [
    "from typing import TypedDict, List\n",
    "from langgraph.graph import StateGraph"
   ]
  },
  {
   "cell_type": "code",
   "execution_count": 2,
   "id": "8ced7293",
   "metadata": {},
   "outputs": [],
   "source": [
    "class AgentState(TypedDict):\n",
    "  values: List[int]\n",
    "  name: str\n",
    "  result: str\n"
   ]
  },
  {
   "cell_type": "code",
   "execution_count": 13,
   "id": "ff147458",
   "metadata": {},
   "outputs": [],
   "source": [
    "def process_values(state: AgentState) -> AgentState:\n",
    "  \"\"\"This function handle multiple different inputs\"\"\"\n",
    "  state[\"result\"] = f\"Hi there {state['name']}. Your sum = {sum(state['values'])}\"\n",
    "  return state"
   ]
  },
  {
   "cell_type": "code",
   "execution_count": 15,
   "id": "797c9a46",
   "metadata": {},
   "outputs": [],
   "source": [
    "graph = StateGraph(AgentState)\n",
    "\n",
    "graph.add_node(\"adding\", process_values) \n",
    "graph.set_entry_point(\"adding\")\n",
    "graph.set_finish_point(\"adding\")\n",
    "\n",
    "app = graph.compile()"
   ]
  },
  {
   "cell_type": "code",
   "execution_count": 16,
   "id": "21031022",
   "metadata": {},
   "outputs": [
    {
     "data": {
      "image/png": "[encoded data removed]",
      "text/plain": [
       "<IPython.core.display.Image object>"
      ]
     },
     "metadata": {},
     "output_type": "display_data"
    }
   ],
   "source": [
    "from IPython.display import Image, display\n",
    "display(Image(app.get_graph().draw_mermaid_png()))"
   ]
  },
  {
   "cell_type": "code",
   "execution_count": null,
   "id": "28e938f3",
   "metadata": {},
   "outputs": [],
   "source": [
    "response = app.invoke({\"values\": [1, 2, 3, 4], \"name\": \"Ashik\"})\n",
    "# LangGraph automatically add None, if you didn't pass the value"
   ]
  },
  {
   "cell_type": "code",
   "execution_count": 18,
   "id": "b0cb2ea2",
   "metadata": {},
   "outputs": [
    {
     "name": "stdout",
     "output_type": "stream",
     "text": [
      "{'values': [1, 2, 3, 4], 'name': 'Ashik', 'result': 'Hi there Ashik. Your sum = 10'}\n",
      "Hi there Ashik. Your sum = 10\n"
     ]
    }
   ],
   "source": [
    "print(response)\n",
    "print(response['result'])"
   ]
  },
  {
   "cell_type": "markdown",
   "id": "a8e7d426",
   "metadata": {},
   "source": [
    "### Task:\n",
    "Create a **Graph** where you pass in a single list of integers along with a name and an operation. If the operation is a \"+\", you add the elements and if it is a \"*\", you multiply the elements, **all within the same node.**\n",
    "\n",
    "**Input**: {\"name\": \"Ashik\", \"values\": [1, 2, 3, 4], \"operation\": \"*\"}\n",
    "**Output**: \"Hi Ashik, your answer is: 24\""
   ]
  },
  {
   "cell_type": "code",
   "execution_count": 22,
   "id": "2b508c23",
   "metadata": {},
   "outputs": [],
   "source": [
    "import math"
   ]
  },
  {
   "cell_type": "code",
   "execution_count": 25,
   "id": "323e8bb8",
   "metadata": {},
   "outputs": [],
   "source": [
    "class OperationState(TypedDict):\n",
    "  name: str\n",
    "  values: List[int]\n",
    "  operation: str\n",
    "  output: str\n",
    "\n",
    "\n",
    "def operation_node(state: OperationState) -> OperationState:\n",
    "  \"\"\"It can give you result based on your operator\"\"\"\n",
    "  if state[\"operation\"] == \"+\":\n",
    "    result = sum(state[\"values\"])\n",
    "  elif state[\"operation\"] == \"*\":\n",
    "    result = math.prod(state[\"values\"])\n",
    "  else:\n",
    "    result = \"Invalid operation\"\n",
    "\n",
    "  state[\"output\"] = f\"Hi {state['name']}, your answer is: {result}\" \n",
    "  return state  "
   ]
  },
  {
   "cell_type": "code",
   "execution_count": 26,
   "id": "d34e3521",
   "metadata": {},
   "outputs": [],
   "source": [
    "graph2 = StateGraph(OperationState)\n",
    "\n",
    "graph2.add_node(\"operator\", operation_node)\n",
    "graph2.set_entry_point(\"operator\")\n",
    "graph2.set_finish_point(\"operator\")\n",
    "\n",
    "app2 = graph2.compile()"
   ]
  },
  {
   "cell_type": "code",
   "execution_count": 27,
   "id": "7251ee0e",
   "metadata": {},
   "outputs": [
    {
     "data": {
      "image/png": "[encoded data removed]",
      "text/plain": [
       "<IPython.core.display.Image object>"
      ]
     },
     "metadata": {},
     "output_type": "display_data"
    }
   ],
   "source": [
    "display(Image(app2.get_graph().draw_mermaid_png()))"
   ]
  },
  {
   "cell_type": "code",
   "execution_count": 28,
   "id": "a2c19d21",
   "metadata": {},
   "outputs": [],
   "source": [
    "response = app2.invoke({\"name\": \"Ashik\", \"values\": [1, 2, 3, 4], \"operation\": \"*\", \"output\": \"\"})"
   ]
  },
  {
   "cell_type": "code",
   "execution_count": 29,
   "id": "828e2413",
   "metadata": {},
   "outputs": [
    {
     "data": {
      "text/plain": [
       "'Hi Ashik, your answer is: 24'"
      ]
     },
     "execution_count": 29,
     "metadata": {},
     "output_type": "execute_result"
    }
   ],
   "source": [
    "response[\"output\"]"
   ]
  }
 ],
 "metadata": {
  "kernelspec": {
   "display_name": ".venv",
   "language": "python",
   "name": "python3"
  },
  "language_info": {
   "codemirror_mode": {
    "name": "ipython",
    "version": 3
   },
   "file_extension": ".py",
   "mimetype": "text/x-python",
   "name": "python",
   "nbconvert_exporter": "python",
   "pygments_lexer": "ipython3",
   "version": "3.13.5"
  }
 },
 "nbformat": 4,
 "nbformat_minor": 5
}
