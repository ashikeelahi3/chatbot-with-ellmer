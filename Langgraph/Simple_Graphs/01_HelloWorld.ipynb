{
 "cells": [
  {
   "cell_type": "markdown",
   "id": "863a9f26",
   "metadata": {},
   "source": [
    "# Hello World Agent\n",
    "\n",
    "Our first LangGraph graph"
   ]
  },
  {
   "cell_type": "code",
   "execution_count": 1,
   "id": "1dbc3e05",
   "metadata": {},
   "outputs": [],
   "source": [
    "from typing import Dict, TypedDict\n",
    "from langgraph.graph import StateGraph"
   ]
  },
  {
   "cell_type": "code",
   "execution_count": null,
   "id": "91b1bbd6",
   "metadata": {},
   "outputs": [],
   "source": [
    "# Now we create an AgentState\n",
    "\n",
    "class AgentState(TypedDict): # Our sate scheme\n",
    "  message: str\n",
    "  \n",
    "def greeting_node(state: AgentState) -> AgentState:\n",
    "  \"\"\"Simple node that adds a greeting message to the state\"\"\"\n",
    "\n",
    "  state['message'] = \"Hey \" + state[\"message\"] + \", how is your day going?\"\n",
    "  return state"
   ]
  },
  {
   "cell_type": "code",
   "execution_count": 3,
   "id": "d239b619",
   "metadata": {},
   "outputs": [],
   "source": [
    "graph = StateGraph(AgentState)\n",
    "\n",
    "graph.add_node(\"greeter\", greeting_node)\n",
    "\n",
    "graph.set_entry_point(\"greeter\")\n",
    "graph.set_finish_point(\"greeter\")\n",
    "\n",
    "app = graph.compile()"
   ]
  },
  {
   "cell_type": "code",
   "execution_count": 4,
   "id": "6c6ae2b3",
   "metadata": {},
   "outputs": [
    {
     "data": {
      "image/png": "[encoded data removed]",
      "text/plain": [
       "<IPython.core.display.Image object>"
      ]
     },
     "metadata": {},
     "output_type": "display_data"
    }
   ],
   "source": [
    "from IPython.display import Image, display\n",
    "display(Image(app.get_graph().draw_mermaid_png()))"
   ]
  },
  {
   "cell_type": "code",
   "execution_count": null,
   "id": "a3b692a1",
   "metadata": {},
   "outputs": [
    {
     "name": "stdout",
     "output_type": "stream",
     "text": [
      "{'message': 'Hey Ashik, how is your day going?'}\n"
     ]
    }
   ],
   "source": [
    "result = app.invoke({\"message\": \"Ashik\"})"
   ]
  },
  {
   "cell_type": "code",
   "execution_count": 6,
   "id": "0982077d",
   "metadata": {},
   "outputs": [
    {
     "name": "stdout",
     "output_type": "stream",
     "text": [
      "{'message': 'Hey Ashik, how is your day going?'}\n",
      "Hey Ashik, how is your day going?\n"
     ]
    }
   ],
   "source": [
    "print(result)\n",
    "print(result['message'])"
   ]
  },
  {
   "cell_type": "markdown",
   "id": "52c8845e",
   "metadata": {},
   "source": [
    "## Exercise for Graph 1\n",
    "\n",
    "### Task:\n",
    "Create a **Personalized Compliment Agent** using LangGraph!\n",
    "\n",
    "**Input**: {\"name\": \"Ashik\"}\n",
    "**Output**: \"Ashik, you're doing an amazing job learning LangGraph!\"\n",
    "\n",
    "*Hint*: You have to create the state, not replace it!"
   ]
  },
  {
   "cell_type": "code",
   "execution_count": 7,
   "id": "77c0949d",
   "metadata": {},
   "outputs": [],
   "source": [
    "# Now we create an AgentState\n",
    "class ExerciseState(TypedDict):\n",
    "  name: str\n",
    "  message: str\n",
    "  \n",
    "\n",
    "def appreciate_node(state: ExerciseState) -> ExerciseState:\n",
    "  \"\"\"A simple nod that will appreciate you\"\"\"\n",
    "  state['message'] = state['name'] + \", you're doing an amazing job learning LangGraph!\"\n",
    "  return state"
   ]
  },
  {
   "cell_type": "code",
   "execution_count": 10,
   "id": "27aabeac",
   "metadata": {},
   "outputs": [],
   "source": [
    "graph2 = StateGraph(ExerciseState)\n",
    "\n",
    "graph2.add_node(\"appreciate\", appreciate_node)\n",
    "\n",
    "graph2.set_entry_point(\"appreciate\")\n",
    "graph2.set_finish_point(\"appreciate\")\n",
    "\n",
    "app2 = graph2.compile()"
   ]
  },
  {
   "cell_type": "code",
   "execution_count": 11,
   "id": "1989893e",
   "metadata": {},
   "outputs": [
    {
     "data": {
      "image/png": "[encoded data removed]",
      "text/plain": [
       "<IPython.core.display.Image object>"
      ]
     },
     "metadata": {},
     "output_type": "display_data"
    }
   ],
   "source": [
    "display(Image(app2.get_graph().draw_mermaid_png()))"
   ]
  },
  {
   "cell_type": "code",
   "execution_count": 12,
   "id": "8411d1ee",
   "metadata": {},
   "outputs": [],
   "source": [
    "response = app2.invoke({\"name\": \"Ashik\", \"message\": \"\"})"
   ]
  },
  {
   "cell_type": "code",
   "execution_count": 13,
   "id": "745ec761",
   "metadata": {},
   "outputs": [
    {
     "name": "stdout",
     "output_type": "stream",
     "text": [
      "Ashik, you're doing an amazing job learning LangGraph!\n"
     ]
    }
   ],
   "source": [
    "print(response['message'])"
   ]
  }
 ],
 "metadata": {
  "kernelspec": {
   "display_name": ".venv",
   "language": "python",
   "name": "python3"
  },
  "language_info": {
   "codemirror_mode": {
    "name": "ipython",
    "version": 3
   },
   "file_extension": ".py",
   "mimetype": "text/x-python",
   "name": "python",
   "nbconvert_exporter": "python",
   "pygments_lexer": "ipython3",
   "version": "3.13.5"
  }
 },
 "nbformat": 4,
 "nbformat_minor": 5
}
